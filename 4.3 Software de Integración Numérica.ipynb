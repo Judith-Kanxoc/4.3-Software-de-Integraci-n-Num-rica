{
 "cells": [
  {
   "cell_type": "markdown",
   "metadata": {},
   "source": [
    "## 4.3 Software de Integración Numérica\n",
    "\n",
    "### Desarrollar el software que calcule una integral numérica con los métodos de trapecio, simposón de 1/3 en los casos particular y general.\n",
    "\n",
    "#### Alumna: Lourdes Judith Kanxoc Hau-19070071- 4°A"
   ]
  },
  {
   "cell_type": "markdown",
   "metadata": {},
   "source": [
    "# Método de trapecio"
   ]
  },
  {
   "cell_type": "code",
   "execution_count": 24,
   "metadata": {},
   "outputs": [
    {
     "name": "stdout",
     "output_type": "stream",
     "text": [
      "Límite Inferior:1\n",
      "Límite Superior:2\n",
      "Número de Intervalos:4\n",
      "\n",
      "Resultado:\n"
     ]
    },
    {
     "data": {
      "text/plain": [
       "0.639900477687986"
      ]
     },
     "execution_count": 24,
     "metadata": {},
     "output_type": "execute_result"
    }
   ],
   "source": [
    "import math\n",
    "\n",
    "\n",
    "def fx(x):\n",
    "    return x*math.log(x)\n",
    "\n",
    "def Evaluacion(n):\n",
    "    evaluaciones = [fx(a + i * h) for i in range(n + 1)]\n",
    "    return evaluaciones\n",
    "\n",
    "def trapecio(arreglofxi):\n",
    "    sumapt = sum([arreglofxi[i] for i in range(1, n)])\n",
    "    resultado = (h / 2) * (arreglofxi[0] + 2 * sumapt + arreglofxi[n])\n",
    "    \n",
    "    return resultado\n",
    "\n",
    "a = float(input(\"Límite Inferior:\"))\n",
    "b = float(input(\"Límite Superior:\"))\n",
    "n = int(input(\"Número de Intervalos:\"))\n",
    "h = (b - a) / n\n",
    "print()\n",
    "print(\"Resultado:\")\n",
    "arreglofxi = Evaluacion(n)\n",
    "trapecio(arreglofxi)\n",
    "        \n",
    "       "
   ]
  },
  {
   "cell_type": "markdown",
   "metadata": {},
   "source": [
    "# Método de Simpson de 1/3"
   ]
  },
  {
   "cell_type": "code",
   "execution_count": 29,
   "metadata": {},
   "outputs": [],
   "source": [
    "par = []\n",
    "impar = []\n",
    "inter = []\n",
    "\n",
    "def f(x):\n",
    "    \"\"\"\n",
    "    Dado un punto 'x', evalua la función.\n",
    "    :param x: Punto a evaluar.\n",
    "    :return: Valor numérico de la función en el punto dado.\n",
    "    \"\"\"\n",
    "    return x*math.log(x)\n",
    "\n",
    "\n",
    "def divinter(a, b, n):\n",
    "    \"\"\"\n",
    "    Dado el límite inferior y superior de un intervalo divide este en 'n' intervalos iguales.\n",
    "    :param a: Límite inferior.\n",
    "    :param b: Límite superior.\n",
    "    :param n: Cantidad de intervalos.\n",
    "    :return: None.\n",
    "    \"\"\"\n",
    "    ha = h(a, b, n)\n",
    "    inter.append(a)\n",
    "    for i in range(n):\n",
    "        inter.append(inter[len(inter) - 1] + ha)\n",
    "\n",
    "\n",
    "def h(a, b, n):\n",
    "    \"\"\"\n",
    "    Dado los valores de 'a', 'b' y 'n', evalua la función 'h'.\n",
    "    :param a: Límite inferior.\n",
    "    :param b: Límite superior\n",
    "    :param n: Cantidad de subintervalor.\n",
    "    :return: Diferencia de el superior al inferior dividido entre dos.\n",
    "    \"\"\"\n",
    "    return (b - a)/n\n",
    "\n",
    "\n",
    "def detimpar(n):\n",
    "    \"\"\"\n",
    "    Dado un número 'n', genera una lista de 'n' números impares.\n",
    "    :param n: Cantidad de números impares.\n",
    "    :return: None.\n",
    "    \"\"\"\n",
    "    impar.append(1)\n",
    "    for i in range(int(n/2) - 1):\n",
    "        impar.append(impar[len(impar) - 1] + 2)\n",
    "\n",
    "\n",
    "def detpar(n):\n",
    "    \"\"\"\n",
    "    Dado un número 'n', genera una lista de 'n' números pares.\n",
    "    :param n: Cantiadd de números pares.\n",
    "    :return: None.\n",
    "    \"\"\"\n",
    "    par.append(2)\n",
    "    for i in range(int(n/2) - 1):\n",
    "        par.append(par[len(par) - 1] + 2)\n",
    "    "
   ]
  },
  {
   "cell_type": "markdown",
   "metadata": {},
   "source": [
    "## Caso particular\n"
   ]
  },
  {
   "cell_type": "code",
   "execution_count": 30,
   "metadata": {},
   "outputs": [
    {
     "name": "stdout",
     "output_type": "stream",
     "text": [
      "Límite Inferior:1\n",
      "Límite Superior:2\n",
      "\n",
      "resultado:\n"
     ]
    },
    {
     "data": {
      "text/plain": [
       "0.6365141682948128"
      ]
     },
     "execution_count": 30,
     "metadata": {},
     "output_type": "execute_result"
    }
   ],
   "source": [
    "def simpsonparticular(a,b):\n",
    "    \"\"\"\n",
    "    Método de Simpson simple\n",
    "    :param a: Límite inferior.\n",
    "    :param b: Límite superior\n",
    "    :return: Valor de la aproximación de la integral.\n",
    "    \"\"\"\n",
    "    \n",
    "    xm = (a + b)/2\n",
    "    print()\n",
    "    print(\"resultado:\" )\n",
    "    return (h(a, b, 2)/3)*(f(a) + 4*f(xm) + f(b))\n",
    "    \n",
    "\n",
    "A= int(input(\"Límite Inferior:\"))\n",
    "B= int(input(\"Límite Superior:\"))\n",
    "simpsonparticular(A,B)       \n",
    "      "
   ]
  },
  {
   "cell_type": "markdown",
   "metadata": {},
   "source": [
    "## Caso general"
   ]
  },
  {
   "cell_type": "code",
   "execution_count": 32,
   "metadata": {},
   "outputs": [
    {
     "name": "stdout",
     "output_type": "stream",
     "text": [
      "Límite Inferior:1\n",
      "Límite Superior:2\n",
      "Número de Intervalos:4\n",
      "\n",
      "resultado:\n"
     ]
    },
    {
     "data": {
      "text/plain": [
       "0.6363098297969492"
      ]
     },
     "execution_count": 32,
     "metadata": {},
     "output_type": "execute_result"
    }
   ],
   "source": [
    "def simpsongeneral(a, b, n):\n",
    "    \"\"\"\n",
    "    Método de Simpson compuesto o general.\n",
    "    :param a: Límite inferior.\n",
    "    :param b: Límite superior\n",
    "    :param n: Cantidad de subintervalor.\n",
    "    :return: Valor de la aproximación de la integral.\n",
    "    \"\"\"\n",
    "    detimpar(n)\n",
    "    detpar(n)\n",
    "    divinter(a, b, n)\n",
    "    e = 0\n",
    "    p = 0\n",
    "    for i in range(int(n/2)):\n",
    "        e = e + f(inter[impar[i]])\n",
    "    for j in range(int(n/2) - 1):\n",
    "        p = p + f(inter[par[j]])\n",
    "        \n",
    "    print()\n",
    "    print(\"resultado:\" )\n",
    "    return ((h(a, b, n))/3)*(f(a) + 4*e + 2*p + f(b))\n",
    "\n",
    "A= int(input(\"Límite Inferior:\"))\n",
    "B= int(input(\"Límite Superior:\"))\n",
    "N = int(input(\"Número de Intervalos:\"))\n",
    "simpsongeneral(A,B,N)"
   ]
  },
  {
   "cell_type": "code",
   "execution_count": null,
   "metadata": {},
   "outputs": [],
   "source": []
  },
  {
   "cell_type": "code",
   "execution_count": null,
   "metadata": {},
   "outputs": [],
   "source": []
  }
 ],
 "metadata": {
  "kernelspec": {
   "display_name": "Python 3",
   "language": "python",
   "name": "python3"
  },
  "language_info": {
   "codemirror_mode": {
    "name": "ipython",
    "version": 3
   },
   "file_extension": ".py",
   "mimetype": "text/x-python",
   "name": "python",
   "nbconvert_exporter": "python",
   "pygments_lexer": "ipython3",
   "version": "3.8.5"
  }
 },
 "nbformat": 4,
 "nbformat_minor": 4
}
